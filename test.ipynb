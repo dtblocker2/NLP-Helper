{
 "cells": [
  {
   "cell_type": "code",
   "execution_count": 1,
   "id": "abfaaff6",
   "metadata": {},
   "outputs": [],
   "source": [
    "from ollama import Client"
   ]
  },
  {
   "cell_type": "code",
   "execution_count": 4,
   "id": "08ac3b4a",
   "metadata": {},
   "outputs": [
    {
     "name": "stdout",
     "output_type": "stream",
     "text": [
      "Earth's dominant color is a mesmerizing blue, reflecting the vast oceans covering over 70% of its surface. However, due to vegetation and landmasses, it also displays shades of green, brown, and beige, creating a complex and beautiful spectrum of colors visible from space."
     ]
    }
   ],
   "source": [
    "response = client.chat(model='gemma3:4b', messages=[\n",
    "    {\n",
    "        'role': 'user',\n",
    "        'content': 'What is color of earth answer in 50 words.',\n",
    "    },\n",
    "], stream=True)\n",
    "for chunk in response:\n",
    "    print(chunk['message']['content'],end='',flush=True)"
   ]
  }
 ],
 "metadata": {
  "kernelspec": {
   "display_name": "venv",
   "language": "python",
   "name": "python3"
  },
  "language_info": {
   "codemirror_mode": {
    "name": "ipython",
    "version": 3
   },
   "file_extension": ".py",
   "mimetype": "text/x-python",
   "name": "python",
   "nbconvert_exporter": "python",
   "pygments_lexer": "ipython3",
   "version": "3.13.3"
  }
 },
 "nbformat": 4,
 "nbformat_minor": 5
}
