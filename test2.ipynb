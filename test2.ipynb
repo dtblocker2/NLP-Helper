{
 "cells": [
  {
   "cell_type": "code",
   "execution_count": 1,
   "id": "3fe883c1",
   "metadata": {},
   "outputs": [],
   "source": [
    "import vosk\n",
    "import pyaudio\n",
    "import json\n",
    "\n",
    "model_path = \"vosk-model-en-us-0.22-lgraph\"\n",
    "\n",
    "model = vosk.Model(model_path)\n",
    "\n",
    "rec = vosk.KaldiRecognizer(model, 16000)\n",
    "\n",
    "p = pyaudio.PyAudio()\n",
    "stream = p.open(format=pyaudio.paInt16,\n",
    "                channels=1,\n",
    "                rate=16000,\n",
    "                input=True,\n",
    "                frames_per_buffer=8192)\n",
    "\n",
    "output_file_path = \"recognized_text.txt\"\n",
    "\n"
   ]
  },
  {
   "cell_type": "code",
   "execution_count": null,
   "id": "778fdd16",
   "metadata": {},
   "outputs": [
    {
     "ename": "NameError",
     "evalue": "name 'num_frames' is not defined",
     "output_type": "error",
     "traceback": [
      "\u001b[31m---------------------------------------------------------------------------\u001b[39m",
      "\u001b[31mNameError\u001b[39m                                 Traceback (most recent call last)",
      "\u001b[36mCell\u001b[39m\u001b[36m \u001b[39m\u001b[32mIn[2]\u001b[39m\u001b[32m, line 2\u001b[39m\n\u001b[32m      1\u001b[39m \u001b[38;5;28;01mif\u001b[39;00m stream.is_active():\n\u001b[32m----> \u001b[39m\u001b[32m2\u001b[39m     data = stream.read(\u001b[43mnum_frames\u001b[49m, exception_on_overflow=\u001b[38;5;28;01mFalse\u001b[39;00m)\n",
      "\u001b[31mNameError\u001b[39m: name 'num_frames' is not defined"
     ]
    }
   ],
   "source": [
    "if stream.is_active():\n",
    "    data = stream.read(4096, exception_on_overflow=False)"
   ]
  },
  {
   "cell_type": "code",
   "execution_count": null,
   "id": "f027774d",
   "metadata": {},
   "outputs": [],
   "source": [
    "with open(output_file_path, \"w\") as output_file:\n",
    "    print(\"Listening for speech. Say 'Terminate' to stop.\")\n",
    "    # Start streaming and recognize speech\n",
    "    while True:\n",
    "        try:\n",
    "            data = stream.read(4096)\n",
    "            if rec.AcceptWaveform(data):\n",
    "                result = json.loads(rec.Result())\n",
    "                recognized_text = result['text']\n",
    "                \n",
    "                output_file.write(recognized_text + \"\\n\")\n",
    "                print(recognized_text)\n",
    "                if \"terminate\" in recognized_text.lower():\n",
    "                    print(\"Termination keyword detected. Stopping...\")\n",
    "                    break\n",
    "        except EnvironmentError as e:\n",
    "            print(e)\n",
    "\n",
    "# Stop and close the stream\n",
    "stream.stop_stream()\n",
    "stream.close()\n",
    "\n",
    "# Terminate the PyAudio object\n",
    "p.terminate()"
   ]
  }
 ],
 "metadata": {
  "kernelspec": {
   "display_name": "venv",
   "language": "python",
   "name": "python3"
  },
  "language_info": {
   "codemirror_mode": {
    "name": "ipython",
    "version": 3
   },
   "file_extension": ".py",
   "mimetype": "text/x-python",
   "name": "python",
   "nbconvert_exporter": "python",
   "pygments_lexer": "ipython3",
   "version": "3.13.3"
  }
 },
 "nbformat": 4,
 "nbformat_minor": 5
}
